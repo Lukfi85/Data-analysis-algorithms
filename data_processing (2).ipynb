{
 "cells": [
  {
   "cell_type": "markdown",
   "metadata": {},
   "source": [
    "## Обработка датасэта"
   ]
  },
  {
   "cell_type": "code",
   "execution_count": 6,
   "metadata": {},
   "outputs": [],
   "source": [
    "import numpy as np\n",
    "import pandas as pd\n",
    "from sklearn.model_selection import train_test_split\n",
    "from sklearn.tree import DecisionTreeRegressor\n",
    "from sklearn import model_selection\n",
    "import matplotlib.pyplot as plt\n",
    "import seaborn as sns\n"
   ]
  },
  {
   "cell_type": "code",
   "execution_count": 143,
   "metadata": {},
   "outputs": [],
   "source": [
    "TRAIN_DATASET_PATH = \"C:/Users/lukfi/YandexDisk/GB/Алгоритмы анализа данных/Курсовой проект/data/train.csv\"\n",
    "TEST_DATASET_PATH = \"C:/Users/lukfi/YandexDisk/GB/Алгоритмы анализа данных/Курсовой проект/data/test.csv\""
   ]
  },
  {
   "cell_type": "code",
   "execution_count": 144,
   "metadata": {},
   "outputs": [
    {
     "data": {
      "text/html": [
       "<div>\n",
       "<style scoped>\n",
       "    .dataframe tbody tr th:only-of-type {\n",
       "        vertical-align: middle;\n",
       "    }\n",
       "\n",
       "    .dataframe tbody tr th {\n",
       "        vertical-align: top;\n",
       "    }\n",
       "\n",
       "    .dataframe thead th {\n",
       "        text-align: right;\n",
       "    }\n",
       "</style>\n",
       "<table border=\"1\" class=\"dataframe\">\n",
       "  <thead>\n",
       "    <tr style=\"text-align: right;\">\n",
       "      <th></th>\n",
       "      <th>age</th>\n",
       "      <th>years_of_experience</th>\n",
       "      <th>lesson_price</th>\n",
       "      <th>qualification</th>\n",
       "      <th>physics</th>\n",
       "      <th>chemistry</th>\n",
       "      <th>biology</th>\n",
       "      <th>english</th>\n",
       "      <th>geography</th>\n",
       "      <th>history</th>\n",
       "      <th>mean_exam_points</th>\n",
       "      <th>choose</th>\n",
       "    </tr>\n",
       "    <tr>\n",
       "      <th>Id</th>\n",
       "      <th></th>\n",
       "      <th></th>\n",
       "      <th></th>\n",
       "      <th></th>\n",
       "      <th></th>\n",
       "      <th></th>\n",
       "      <th></th>\n",
       "      <th></th>\n",
       "      <th></th>\n",
       "      <th></th>\n",
       "      <th></th>\n",
       "      <th></th>\n",
       "    </tr>\n",
       "  </thead>\n",
       "  <tbody>\n",
       "    <tr>\n",
       "      <th>0</th>\n",
       "      <td>35.0</td>\n",
       "      <td>0.0</td>\n",
       "      <td>2150.0</td>\n",
       "      <td>2.0</td>\n",
       "      <td>0.0</td>\n",
       "      <td>0.0</td>\n",
       "      <td>0.0</td>\n",
       "      <td>0.0</td>\n",
       "      <td>0.0</td>\n",
       "      <td>0.0</td>\n",
       "      <td>74.0</td>\n",
       "      <td>0</td>\n",
       "    </tr>\n",
       "    <tr>\n",
       "      <th>1</th>\n",
       "      <td>52.0</td>\n",
       "      <td>2.0</td>\n",
       "      <td>1250.0</td>\n",
       "      <td>2.0</td>\n",
       "      <td>1.0</td>\n",
       "      <td>0.0</td>\n",
       "      <td>1.0</td>\n",
       "      <td>0.0</td>\n",
       "      <td>0.0</td>\n",
       "      <td>1.0</td>\n",
       "      <td>57.0</td>\n",
       "      <td>1</td>\n",
       "    </tr>\n",
       "    <tr>\n",
       "      <th>2</th>\n",
       "      <td>29.0</td>\n",
       "      <td>3.0</td>\n",
       "      <td>1750.0</td>\n",
       "      <td>1.0</td>\n",
       "      <td>1.0</td>\n",
       "      <td>0.0</td>\n",
       "      <td>0.0</td>\n",
       "      <td>0.0</td>\n",
       "      <td>0.0</td>\n",
       "      <td>0.0</td>\n",
       "      <td>66.0</td>\n",
       "      <td>0</td>\n",
       "    </tr>\n",
       "    <tr>\n",
       "      <th>3</th>\n",
       "      <td>33.0</td>\n",
       "      <td>3.0</td>\n",
       "      <td>1050.0</td>\n",
       "      <td>1.0</td>\n",
       "      <td>0.0</td>\n",
       "      <td>0.0</td>\n",
       "      <td>0.0</td>\n",
       "      <td>0.0</td>\n",
       "      <td>0.0</td>\n",
       "      <td>0.0</td>\n",
       "      <td>66.0</td>\n",
       "      <td>1</td>\n",
       "    </tr>\n",
       "    <tr>\n",
       "      <th>4</th>\n",
       "      <td>46.0</td>\n",
       "      <td>3.0</td>\n",
       "      <td>2250.0</td>\n",
       "      <td>2.0</td>\n",
       "      <td>1.0</td>\n",
       "      <td>0.0</td>\n",
       "      <td>0.0</td>\n",
       "      <td>0.0</td>\n",
       "      <td>0.0</td>\n",
       "      <td>0.0</td>\n",
       "      <td>73.0</td>\n",
       "      <td>0</td>\n",
       "    </tr>\n",
       "  </tbody>\n",
       "</table>\n",
       "</div>"
      ],
      "text/plain": [
       "     age  years_of_experience  lesson_price  qualification  physics  \\\n",
       "Id                                                                    \n",
       "0   35.0                  0.0        2150.0            2.0      0.0   \n",
       "1   52.0                  2.0        1250.0            2.0      1.0   \n",
       "2   29.0                  3.0        1750.0            1.0      1.0   \n",
       "3   33.0                  3.0        1050.0            1.0      0.0   \n",
       "4   46.0                  3.0        2250.0            2.0      1.0   \n",
       "\n",
       "    chemistry  biology  english  geography  history  mean_exam_points  choose  \n",
       "Id                                                                             \n",
       "0         0.0      0.0      0.0        0.0      0.0              74.0       0  \n",
       "1         0.0      1.0      0.0        0.0      1.0              57.0       1  \n",
       "2         0.0      0.0      0.0        0.0      0.0              66.0       0  \n",
       "3         0.0      0.0      0.0        0.0      0.0              66.0       1  \n",
       "4         0.0      0.0      0.0        0.0      0.0              73.0       0  "
      ]
     },
     "execution_count": 144,
     "metadata": {},
     "output_type": "execute_result"
    }
   ],
   "source": [
    "train_df = pd.read_csv(TRAIN_DATASET_PATH, index_col='Id')\n",
    "train_df.head()"
   ]
  },
  {
   "cell_type": "code",
   "execution_count": 145,
   "metadata": {},
   "outputs": [
    {
     "data": {
      "text/html": [
       "<div>\n",
       "<style scoped>\n",
       "    .dataframe tbody tr th:only-of-type {\n",
       "        vertical-align: middle;\n",
       "    }\n",
       "\n",
       "    .dataframe tbody tr th {\n",
       "        vertical-align: top;\n",
       "    }\n",
       "\n",
       "    .dataframe thead th {\n",
       "        text-align: right;\n",
       "    }\n",
       "</style>\n",
       "<table border=\"1\" class=\"dataframe\">\n",
       "  <thead>\n",
       "    <tr style=\"text-align: right;\">\n",
       "      <th></th>\n",
       "      <th>age</th>\n",
       "      <th>years_of_experience</th>\n",
       "      <th>lesson_price</th>\n",
       "      <th>qualification</th>\n",
       "      <th>physics</th>\n",
       "      <th>chemistry</th>\n",
       "      <th>biology</th>\n",
       "      <th>english</th>\n",
       "      <th>geography</th>\n",
       "      <th>history</th>\n",
       "      <th>mean_exam_points</th>\n",
       "    </tr>\n",
       "    <tr>\n",
       "      <th>Id</th>\n",
       "      <th></th>\n",
       "      <th></th>\n",
       "      <th></th>\n",
       "      <th></th>\n",
       "      <th></th>\n",
       "      <th></th>\n",
       "      <th></th>\n",
       "      <th></th>\n",
       "      <th></th>\n",
       "      <th></th>\n",
       "      <th></th>\n",
       "    </tr>\n",
       "  </thead>\n",
       "  <tbody>\n",
       "    <tr>\n",
       "      <th>10000</th>\n",
       "      <td>32.0</td>\n",
       "      <td>2.0</td>\n",
       "      <td>2700.0</td>\n",
       "      <td>3.0</td>\n",
       "      <td>0.0</td>\n",
       "      <td>0.0</td>\n",
       "      <td>0.0</td>\n",
       "      <td>0.0</td>\n",
       "      <td>0.0</td>\n",
       "      <td>0.0</td>\n",
       "      <td>90.0</td>\n",
       "    </tr>\n",
       "    <tr>\n",
       "      <th>10001</th>\n",
       "      <td>35.0</td>\n",
       "      <td>6.0</td>\n",
       "      <td>1800.0</td>\n",
       "      <td>2.0</td>\n",
       "      <td>1.0</td>\n",
       "      <td>1.0</td>\n",
       "      <td>0.0</td>\n",
       "      <td>0.0</td>\n",
       "      <td>0.0</td>\n",
       "      <td>0.0</td>\n",
       "      <td>71.0</td>\n",
       "    </tr>\n",
       "    <tr>\n",
       "      <th>10002</th>\n",
       "      <td>44.0</td>\n",
       "      <td>2.0</td>\n",
       "      <td>1200.0</td>\n",
       "      <td>1.0</td>\n",
       "      <td>0.0</td>\n",
       "      <td>0.0</td>\n",
       "      <td>0.0</td>\n",
       "      <td>0.0</td>\n",
       "      <td>0.0</td>\n",
       "      <td>0.0</td>\n",
       "      <td>45.0</td>\n",
       "    </tr>\n",
       "    <tr>\n",
       "      <th>10003</th>\n",
       "      <td>44.0</td>\n",
       "      <td>4.0</td>\n",
       "      <td>2950.0</td>\n",
       "      <td>3.0</td>\n",
       "      <td>1.0</td>\n",
       "      <td>0.0</td>\n",
       "      <td>0.0</td>\n",
       "      <td>0.0</td>\n",
       "      <td>0.0</td>\n",
       "      <td>0.0</td>\n",
       "      <td>92.0</td>\n",
       "    </tr>\n",
       "    <tr>\n",
       "      <th>10004</th>\n",
       "      <td>38.0</td>\n",
       "      <td>3.0</td>\n",
       "      <td>1400.0</td>\n",
       "      <td>2.0</td>\n",
       "      <td>1.0</td>\n",
       "      <td>0.0</td>\n",
       "      <td>0.0</td>\n",
       "      <td>0.0</td>\n",
       "      <td>0.0</td>\n",
       "      <td>0.0</td>\n",
       "      <td>58.0</td>\n",
       "    </tr>\n",
       "  </tbody>\n",
       "</table>\n",
       "</div>"
      ],
      "text/plain": [
       "        age  years_of_experience  lesson_price  qualification  physics  \\\n",
       "Id                                                                       \n",
       "10000  32.0                  2.0        2700.0            3.0      0.0   \n",
       "10001  35.0                  6.0        1800.0            2.0      1.0   \n",
       "10002  44.0                  2.0        1200.0            1.0      0.0   \n",
       "10003  44.0                  4.0        2950.0            3.0      1.0   \n",
       "10004  38.0                  3.0        1400.0            2.0      1.0   \n",
       "\n",
       "       chemistry  biology  english  geography  history  mean_exam_points  \n",
       "Id                                                                        \n",
       "10000        0.0      0.0      0.0        0.0      0.0              90.0  \n",
       "10001        1.0      0.0      0.0        0.0      0.0              71.0  \n",
       "10002        0.0      0.0      0.0        0.0      0.0              45.0  \n",
       "10003        0.0      0.0      0.0        0.0      0.0              92.0  \n",
       "10004        0.0      0.0      0.0        0.0      0.0              58.0  "
      ]
     },
     "execution_count": 145,
     "metadata": {},
     "output_type": "execute_result"
    }
   ],
   "source": [
    "test_df = pd.read_csv(TEST_DATASET_PATH, index_col='Id')\n",
    "test_df.head()"
   ]
  },
  {
   "cell_type": "markdown",
   "metadata": {},
   "source": [
    "В датасэте нет пропущенных значений."
   ]
  },
  {
   "cell_type": "code",
   "execution_count": 146,
   "metadata": {},
   "outputs": [
    {
     "name": "stdout",
     "output_type": "stream",
     "text": [
      "<class 'pandas.core.frame.DataFrame'>\n",
      "Int64Index: 10000 entries, 0 to 9999\n",
      "Data columns (total 12 columns):\n",
      " #   Column               Non-Null Count  Dtype  \n",
      "---  ------               --------------  -----  \n",
      " 0   age                  10000 non-null  float64\n",
      " 1   years_of_experience  10000 non-null  float64\n",
      " 2   lesson_price         10000 non-null  float64\n",
      " 3   qualification        10000 non-null  float64\n",
      " 4   physics              10000 non-null  float64\n",
      " 5   chemistry            10000 non-null  float64\n",
      " 6   biology              10000 non-null  float64\n",
      " 7   english              10000 non-null  float64\n",
      " 8   geography            10000 non-null  float64\n",
      " 9   history              10000 non-null  float64\n",
      " 10  mean_exam_points     10000 non-null  float64\n",
      " 11  choose               10000 non-null  int64  \n",
      "dtypes: float64(11), int64(1)\n",
      "memory usage: 1015.6 KB\n"
     ]
    }
   ],
   "source": [
    "train_df.info()"
   ]
  },
  {
   "cell_type": "code",
   "execution_count": 147,
   "metadata": {},
   "outputs": [
    {
     "name": "stdout",
     "output_type": "stream",
     "text": [
      "<class 'pandas.core.frame.DataFrame'>\n",
      "Int64Index: 10000 entries, 10000 to 19999\n",
      "Data columns (total 11 columns):\n",
      " #   Column               Non-Null Count  Dtype  \n",
      "---  ------               --------------  -----  \n",
      " 0   age                  10000 non-null  float64\n",
      " 1   years_of_experience  10000 non-null  float64\n",
      " 2   lesson_price         10000 non-null  float64\n",
      " 3   qualification        10000 non-null  float64\n",
      " 4   physics              10000 non-null  float64\n",
      " 5   chemistry            10000 non-null  float64\n",
      " 6   biology              10000 non-null  float64\n",
      " 7   english              10000 non-null  float64\n",
      " 8   geography            10000 non-null  float64\n",
      " 9   history              10000 non-null  float64\n",
      " 10  mean_exam_points     10000 non-null  float64\n",
      "dtypes: float64(11)\n",
      "memory usage: 937.5 KB\n"
     ]
    }
   ],
   "source": [
    "test_df.info()"
   ]
  },
  {
   "cell_type": "code",
   "execution_count": 148,
   "metadata": {},
   "outputs": [
    {
     "data": {
      "text/html": [
       "<div>\n",
       "<style scoped>\n",
       "    .dataframe tbody tr th:only-of-type {\n",
       "        vertical-align: middle;\n",
       "    }\n",
       "\n",
       "    .dataframe tbody tr th {\n",
       "        vertical-align: top;\n",
       "    }\n",
       "\n",
       "    .dataframe thead th {\n",
       "        text-align: right;\n",
       "    }\n",
       "</style>\n",
       "<table border=\"1\" class=\"dataframe\">\n",
       "  <thead>\n",
       "    <tr style=\"text-align: right;\">\n",
       "      <th></th>\n",
       "      <th>age</th>\n",
       "      <th>years_of_experience</th>\n",
       "      <th>lesson_price</th>\n",
       "      <th>qualification</th>\n",
       "      <th>physics</th>\n",
       "      <th>chemistry</th>\n",
       "      <th>biology</th>\n",
       "      <th>english</th>\n",
       "      <th>geography</th>\n",
       "      <th>history</th>\n",
       "      <th>mean_exam_points</th>\n",
       "      <th>choose</th>\n",
       "    </tr>\n",
       "  </thead>\n",
       "  <tbody>\n",
       "    <tr>\n",
       "      <th>count</th>\n",
       "      <td>10000.000000</td>\n",
       "      <td>10000.000000</td>\n",
       "      <td>10000.000000</td>\n",
       "      <td>10000.000000</td>\n",
       "      <td>10000.00000</td>\n",
       "      <td>10000.000000</td>\n",
       "      <td>10000.000000</td>\n",
       "      <td>10000.000000</td>\n",
       "      <td>10000.00000</td>\n",
       "      <td>10000.000000</td>\n",
       "      <td>10000.000000</td>\n",
       "      <td>10000.000000</td>\n",
       "    </tr>\n",
       "    <tr>\n",
       "      <th>mean</th>\n",
       "      <td>45.800900</td>\n",
       "      <td>1.974800</td>\n",
       "      <td>1702.440000</td>\n",
       "      <td>1.724300</td>\n",
       "      <td>0.37060</td>\n",
       "      <td>0.121500</td>\n",
       "      <td>0.117200</td>\n",
       "      <td>0.059100</td>\n",
       "      <td>0.02770</td>\n",
       "      <td>0.018000</td>\n",
       "      <td>64.435200</td>\n",
       "      <td>0.110900</td>\n",
       "    </tr>\n",
       "    <tr>\n",
       "      <th>std</th>\n",
       "      <td>8.030274</td>\n",
       "      <td>1.766883</td>\n",
       "      <td>523.789062</td>\n",
       "      <td>0.798845</td>\n",
       "      <td>0.48299</td>\n",
       "      <td>0.326724</td>\n",
       "      <td>0.321675</td>\n",
       "      <td>0.235824</td>\n",
       "      <td>0.16412</td>\n",
       "      <td>0.132958</td>\n",
       "      <td>13.595024</td>\n",
       "      <td>0.314024</td>\n",
       "    </tr>\n",
       "    <tr>\n",
       "      <th>min</th>\n",
       "      <td>23.000000</td>\n",
       "      <td>0.000000</td>\n",
       "      <td>200.000000</td>\n",
       "      <td>1.000000</td>\n",
       "      <td>0.00000</td>\n",
       "      <td>0.000000</td>\n",
       "      <td>0.000000</td>\n",
       "      <td>0.000000</td>\n",
       "      <td>0.00000</td>\n",
       "      <td>0.000000</td>\n",
       "      <td>33.000000</td>\n",
       "      <td>0.000000</td>\n",
       "    </tr>\n",
       "    <tr>\n",
       "      <th>25%</th>\n",
       "      <td>40.000000</td>\n",
       "      <td>0.000000</td>\n",
       "      <td>1300.000000</td>\n",
       "      <td>1.000000</td>\n",
       "      <td>0.00000</td>\n",
       "      <td>0.000000</td>\n",
       "      <td>0.000000</td>\n",
       "      <td>0.000000</td>\n",
       "      <td>0.00000</td>\n",
       "      <td>0.000000</td>\n",
       "      <td>55.000000</td>\n",
       "      <td>0.000000</td>\n",
       "    </tr>\n",
       "    <tr>\n",
       "      <th>50%</th>\n",
       "      <td>46.000000</td>\n",
       "      <td>2.000000</td>\n",
       "      <td>1550.000000</td>\n",
       "      <td>2.000000</td>\n",
       "      <td>0.00000</td>\n",
       "      <td>0.000000</td>\n",
       "      <td>0.000000</td>\n",
       "      <td>0.000000</td>\n",
       "      <td>0.00000</td>\n",
       "      <td>0.000000</td>\n",
       "      <td>63.000000</td>\n",
       "      <td>0.000000</td>\n",
       "    </tr>\n",
       "    <tr>\n",
       "      <th>75%</th>\n",
       "      <td>51.000000</td>\n",
       "      <td>3.000000</td>\n",
       "      <td>2150.000000</td>\n",
       "      <td>2.000000</td>\n",
       "      <td>1.00000</td>\n",
       "      <td>0.000000</td>\n",
       "      <td>0.000000</td>\n",
       "      <td>0.000000</td>\n",
       "      <td>0.00000</td>\n",
       "      <td>0.000000</td>\n",
       "      <td>74.000000</td>\n",
       "      <td>0.000000</td>\n",
       "    </tr>\n",
       "    <tr>\n",
       "      <th>max</th>\n",
       "      <td>68.000000</td>\n",
       "      <td>9.000000</td>\n",
       "      <td>3950.000000</td>\n",
       "      <td>4.000000</td>\n",
       "      <td>1.00000</td>\n",
       "      <td>1.000000</td>\n",
       "      <td>1.000000</td>\n",
       "      <td>1.000000</td>\n",
       "      <td>1.00000</td>\n",
       "      <td>1.000000</td>\n",
       "      <td>100.000000</td>\n",
       "      <td>1.000000</td>\n",
       "    </tr>\n",
       "  </tbody>\n",
       "</table>\n",
       "</div>"
      ],
      "text/plain": [
       "                age  years_of_experience  lesson_price  qualification  \\\n",
       "count  10000.000000         10000.000000  10000.000000   10000.000000   \n",
       "mean      45.800900             1.974800   1702.440000       1.724300   \n",
       "std        8.030274             1.766883    523.789062       0.798845   \n",
       "min       23.000000             0.000000    200.000000       1.000000   \n",
       "25%       40.000000             0.000000   1300.000000       1.000000   \n",
       "50%       46.000000             2.000000   1550.000000       2.000000   \n",
       "75%       51.000000             3.000000   2150.000000       2.000000   \n",
       "max       68.000000             9.000000   3950.000000       4.000000   \n",
       "\n",
       "           physics     chemistry       biology       english    geography  \\\n",
       "count  10000.00000  10000.000000  10000.000000  10000.000000  10000.00000   \n",
       "mean       0.37060      0.121500      0.117200      0.059100      0.02770   \n",
       "std        0.48299      0.326724      0.321675      0.235824      0.16412   \n",
       "min        0.00000      0.000000      0.000000      0.000000      0.00000   \n",
       "25%        0.00000      0.000000      0.000000      0.000000      0.00000   \n",
       "50%        0.00000      0.000000      0.000000      0.000000      0.00000   \n",
       "75%        1.00000      0.000000      0.000000      0.000000      0.00000   \n",
       "max        1.00000      1.000000      1.000000      1.000000      1.00000   \n",
       "\n",
       "            history  mean_exam_points        choose  \n",
       "count  10000.000000      10000.000000  10000.000000  \n",
       "mean       0.018000         64.435200      0.110900  \n",
       "std        0.132958         13.595024      0.314024  \n",
       "min        0.000000         33.000000      0.000000  \n",
       "25%        0.000000         55.000000      0.000000  \n",
       "50%        0.000000         63.000000      0.000000  \n",
       "75%        0.000000         74.000000      0.000000  \n",
       "max        1.000000        100.000000      1.000000  "
      ]
     },
     "execution_count": 148,
     "metadata": {},
     "output_type": "execute_result"
    }
   ],
   "source": [
    "train_df.describe()"
   ]
  },
  {
   "cell_type": "code",
   "execution_count": 149,
   "metadata": {},
   "outputs": [
    {
     "data": {
      "text/html": [
       "<div>\n",
       "<style scoped>\n",
       "    .dataframe tbody tr th:only-of-type {\n",
       "        vertical-align: middle;\n",
       "    }\n",
       "\n",
       "    .dataframe tbody tr th {\n",
       "        vertical-align: top;\n",
       "    }\n",
       "\n",
       "    .dataframe thead th {\n",
       "        text-align: right;\n",
       "    }\n",
       "</style>\n",
       "<table border=\"1\" class=\"dataframe\">\n",
       "  <thead>\n",
       "    <tr style=\"text-align: right;\">\n",
       "      <th></th>\n",
       "      <th>age</th>\n",
       "      <th>years_of_experience</th>\n",
       "      <th>lesson_price</th>\n",
       "      <th>qualification</th>\n",
       "      <th>physics</th>\n",
       "      <th>chemistry</th>\n",
       "      <th>biology</th>\n",
       "      <th>english</th>\n",
       "      <th>geography</th>\n",
       "      <th>history</th>\n",
       "      <th>mean_exam_points</th>\n",
       "    </tr>\n",
       "  </thead>\n",
       "  <tbody>\n",
       "    <tr>\n",
       "      <th>count</th>\n",
       "      <td>10000.000000</td>\n",
       "      <td>10000.000000</td>\n",
       "      <td>10000.000000</td>\n",
       "      <td>10000.000000</td>\n",
       "      <td>10000.000000</td>\n",
       "      <td>10000.000000</td>\n",
       "      <td>10000.000000</td>\n",
       "      <td>10000.000000</td>\n",
       "      <td>10000.000000</td>\n",
       "      <td>10000.000000</td>\n",
       "      <td>10000.000000</td>\n",
       "    </tr>\n",
       "    <tr>\n",
       "      <th>mean</th>\n",
       "      <td>45.924500</td>\n",
       "      <td>1.985700</td>\n",
       "      <td>1699.910000</td>\n",
       "      <td>1.702300</td>\n",
       "      <td>0.372100</td>\n",
       "      <td>0.128100</td>\n",
       "      <td>0.115800</td>\n",
       "      <td>0.049000</td>\n",
       "      <td>0.029200</td>\n",
       "      <td>0.015100</td>\n",
       "      <td>64.149400</td>\n",
       "    </tr>\n",
       "    <tr>\n",
       "      <th>std</th>\n",
       "      <td>8.031977</td>\n",
       "      <td>1.771217</td>\n",
       "      <td>526.260094</td>\n",
       "      <td>0.789644</td>\n",
       "      <td>0.483389</td>\n",
       "      <td>0.334218</td>\n",
       "      <td>0.320001</td>\n",
       "      <td>0.215879</td>\n",
       "      <td>0.168375</td>\n",
       "      <td>0.121957</td>\n",
       "      <td>13.570096</td>\n",
       "    </tr>\n",
       "    <tr>\n",
       "      <th>min</th>\n",
       "      <td>23.000000</td>\n",
       "      <td>0.000000</td>\n",
       "      <td>300.000000</td>\n",
       "      <td>1.000000</td>\n",
       "      <td>0.000000</td>\n",
       "      <td>0.000000</td>\n",
       "      <td>0.000000</td>\n",
       "      <td>0.000000</td>\n",
       "      <td>0.000000</td>\n",
       "      <td>0.000000</td>\n",
       "      <td>32.000000</td>\n",
       "    </tr>\n",
       "    <tr>\n",
       "      <th>25%</th>\n",
       "      <td>41.000000</td>\n",
       "      <td>0.000000</td>\n",
       "      <td>1300.000000</td>\n",
       "      <td>1.000000</td>\n",
       "      <td>0.000000</td>\n",
       "      <td>0.000000</td>\n",
       "      <td>0.000000</td>\n",
       "      <td>0.000000</td>\n",
       "      <td>0.000000</td>\n",
       "      <td>0.000000</td>\n",
       "      <td>55.000000</td>\n",
       "    </tr>\n",
       "    <tr>\n",
       "      <th>50%</th>\n",
       "      <td>46.000000</td>\n",
       "      <td>2.000000</td>\n",
       "      <td>1550.000000</td>\n",
       "      <td>1.500000</td>\n",
       "      <td>0.000000</td>\n",
       "      <td>0.000000</td>\n",
       "      <td>0.000000</td>\n",
       "      <td>0.000000</td>\n",
       "      <td>0.000000</td>\n",
       "      <td>0.000000</td>\n",
       "      <td>63.000000</td>\n",
       "    </tr>\n",
       "    <tr>\n",
       "      <th>75%</th>\n",
       "      <td>51.000000</td>\n",
       "      <td>3.000000</td>\n",
       "      <td>2150.000000</td>\n",
       "      <td>2.000000</td>\n",
       "      <td>1.000000</td>\n",
       "      <td>0.000000</td>\n",
       "      <td>0.000000</td>\n",
       "      <td>0.000000</td>\n",
       "      <td>0.000000</td>\n",
       "      <td>0.000000</td>\n",
       "      <td>73.000000</td>\n",
       "    </tr>\n",
       "    <tr>\n",
       "      <th>max</th>\n",
       "      <td>68.000000</td>\n",
       "      <td>9.000000</td>\n",
       "      <td>3950.000000</td>\n",
       "      <td>4.000000</td>\n",
       "      <td>1.000000</td>\n",
       "      <td>1.000000</td>\n",
       "      <td>1.000000</td>\n",
       "      <td>1.000000</td>\n",
       "      <td>1.000000</td>\n",
       "      <td>1.000000</td>\n",
       "      <td>98.000000</td>\n",
       "    </tr>\n",
       "  </tbody>\n",
       "</table>\n",
       "</div>"
      ],
      "text/plain": [
       "                age  years_of_experience  lesson_price  qualification  \\\n",
       "count  10000.000000         10000.000000  10000.000000   10000.000000   \n",
       "mean      45.924500             1.985700   1699.910000       1.702300   \n",
       "std        8.031977             1.771217    526.260094       0.789644   \n",
       "min       23.000000             0.000000    300.000000       1.000000   \n",
       "25%       41.000000             0.000000   1300.000000       1.000000   \n",
       "50%       46.000000             2.000000   1550.000000       1.500000   \n",
       "75%       51.000000             3.000000   2150.000000       2.000000   \n",
       "max       68.000000             9.000000   3950.000000       4.000000   \n",
       "\n",
       "            physics     chemistry       biology       english     geography  \\\n",
       "count  10000.000000  10000.000000  10000.000000  10000.000000  10000.000000   \n",
       "mean       0.372100      0.128100      0.115800      0.049000      0.029200   \n",
       "std        0.483389      0.334218      0.320001      0.215879      0.168375   \n",
       "min        0.000000      0.000000      0.000000      0.000000      0.000000   \n",
       "25%        0.000000      0.000000      0.000000      0.000000      0.000000   \n",
       "50%        0.000000      0.000000      0.000000      0.000000      0.000000   \n",
       "75%        1.000000      0.000000      0.000000      0.000000      0.000000   \n",
       "max        1.000000      1.000000      1.000000      1.000000      1.000000   \n",
       "\n",
       "            history  mean_exam_points  \n",
       "count  10000.000000      10000.000000  \n",
       "mean       0.015100         64.149400  \n",
       "std        0.121957         13.570096  \n",
       "min        0.000000         32.000000  \n",
       "25%        0.000000         55.000000  \n",
       "50%        0.000000         63.000000  \n",
       "75%        0.000000         73.000000  \n",
       "max        1.000000         98.000000  "
      ]
     },
     "execution_count": 149,
     "metadata": {},
     "output_type": "execute_result"
    }
   ],
   "source": [
    "test_df.describe()"
   ]
  },
  {
   "cell_type": "code",
   "execution_count": 150,
   "metadata": {},
   "outputs": [
    {
     "data": {
      "image/png": "[encoded data removed]",
      "text/plain": [
       "<Figure size 864x648 with 2 Axes>"
      ]
     },
     "metadata": {
      "needs_background": "light"
     },
     "output_type": "display_data"
    }
   ],
   "source": [
    "f, ax = plt.subplots(figsize=(12, 9))\n",
    "sns.heatmap(train_df.corr(), vmax=.8, annot=True, fmt=' .2f', square=True);"
   ]
  },
  {
   "cell_type": "markdown",
   "metadata": {},
   "source": [
    "Видно что целевая переменная коррелирует со стоимость занятий, и средним баллом."
   ]
  },
  {
   "cell_type": "code",
   "execution_count": 151,
   "metadata": {},
   "outputs": [
    {
     "data": {
      "text/plain": [
       "['age',\n",
       " 'years_of_experience',\n",
       " 'lesson_price',\n",
       " 'qualification',\n",
       " 'physics',\n",
       " 'chemistry',\n",
       " 'biology',\n",
       " 'english',\n",
       " 'geography',\n",
       " 'history',\n",
       " 'mean_exam_points',\n",
       " 'choose']"
      ]
     },
     "execution_count": 151,
     "metadata": {},
     "output_type": "execute_result"
    }
   ],
   "source": [
    "list(train_df)"
   ]
  },
  {
   "cell_type": "code",
   "execution_count": 152,
   "metadata": {},
   "outputs": [
    {
     "data": {
      "text/plain": [
       "0.2774"
      ]
     },
     "execution_count": 152,
     "metadata": {},
     "output_type": "execute_result"
    }
   ],
   "source": [
    "train_df['years_of_experience'][train_df['years_of_experience'] == 0].shape[0]/train_df['years_of_experience'].shape[0]"
   ]
  },
  {
   "cell_type": "markdown",
   "metadata": {},
   "source": [
    "Около трети значений в поле years_of_experience равна нулю. Мне кажется это важный параметр, заполним его, основываясь на стоимости уроков(чем более опытный преподаватель, тем дороже его уроки)."
   ]
  },
  {
   "cell_type": "code",
   "execution_count": 153,
   "metadata": {},
   "outputs": [
    {
     "name": "stderr",
     "output_type": "stream",
     "text": [
      "<ipython-input-153-ff4c5ee9e58b>:6: SettingWithCopyWarning: \n",
      "A value is trying to be set on a copy of a slice from a DataFrame\n",
      "\n",
      "See the caveats in the documentation: https://pandas.pydata.org/pandas-docs/stable/user_guide/indexing.html#returning-a-view-versus-a-copy\n",
      "  train_df.years_of_experience[i] = train_df['years_of_experience'][(train_df['years_of_experience'] != 0) & (train_df['lesson_price'] == train_df.lesson_price[i])].mean()\n"
     ]
    }
   ],
   "source": [
    "exp0_ind = train_df['years_of_experience'][train_df['years_of_experience'] == 0].index \n",
    "price_ = train_df['lesson_price'][train_df['years_of_experience'] != 0].unique()\n",
    "for i in exp0_ind:\n",
    "    if train_df.lesson_price[i] in price_:\n",
    "        \n",
    "        train_df.years_of_experience[i] = train_df['years_of_experience'][(train_df['years_of_experience'] != 0) & (train_df['lesson_price'] == train_df.lesson_price[i])].mean()\n",
    "        \n",
    "    else:\n",
    "        \n",
    "        train_df.years_of_experience[i] = train_df['years_of_experience'].mode()[0]"
   ]
  },
  {
   "cell_type": "code",
   "execution_count": 154,
   "metadata": {},
   "outputs": [],
   "source": [
    "exp0_ind = test_df['years_of_experience'][test_df['years_of_experience'] == 0].index \n",
    "price_ = test_df['lesson_price'][test_df['years_of_experience'] != 0].unique()\n",
    "for i in exp0_ind:\n",
    "    if test_df.lesson_price[i] in price_:\n",
    "        \n",
    "        test_df.years_of_experience[i] = test_df['years_of_experience'][(test_df['years_of_experience'] != 0) & (test_df['lesson_price'] == test_df.lesson_price[i])].mean()\n",
    "        \n",
    "    else:\n",
    "        \n",
    "        test_df.years_of_experience[i] = test_df['years_of_experience'].mode()"
   ]
  },
  {
   "cell_type": "markdown",
   "metadata": {},
   "source": [
    "Проверим, сколько строк не имеет обозначения предмета. Предположим, что преподаватель препоает какой-то другой предмет."
   ]
  },
  {
   "cell_type": "code",
   "execution_count": 155,
   "metadata": {},
   "outputs": [],
   "source": [
    "col = [ 'physics',\n",
    "        'chemistry',\n",
    "        'biology',\n",
    "        'english',\n",
    "        'geography',\n",
    "        'history']\n",
    "train_df['flag'] = train_df[col].sum(axis=1)\n",
    "test_df['flag'] = test_df[col].sum(axis=1)\n",
    "train_df['other_subj'] = 0\n",
    "test_df['other_subj'] = 0\n",
    "train_df.loc[train_df['flag'] == 0, 'other_subj' ] = 1\n",
    "test_df.loc[test_df['flag'] == 0, 'other_subj' ] = 1"
   ]
  },
  {
   "cell_type": "markdown",
   "metadata": {},
   "source": [
    "Если все предметы классифицированы нулем, то вероятность что данный преподаватель буде выбран, минимальна."
   ]
  },
  {
   "cell_type": "code",
   "execution_count": 157,
   "metadata": {},
   "outputs": [
    {
     "data": {
      "text/plain": [
       "0.047249486418625884"
      ]
     },
     "execution_count": 157,
     "metadata": {},
     "output_type": "execute_result"
    }
   ],
   "source": [
    "train_df[(train_df['flag'] == 0) & (train_df['choose'] == 1)].shape[0]/train_df[(train_df['flag'] == 0)].shape[0]"
   ]
  },
  {
   "cell_type": "markdown",
   "metadata": {},
   "source": [
    "Добавим признак эфективности затраченных средств, в пересчете на балл."
   ]
  },
  {
   "cell_type": "code",
   "execution_count": 159,
   "metadata": {},
   "outputs": [],
   "source": [
    "train_df['efficiency'] = train_df['lesson_price']/train_df['mean_exam_points']\n",
    "test_df['efficiency'] = test_df['lesson_price']/test_df['mean_exam_points']"
   ]
  },
  {
   "cell_type": "markdown",
   "metadata": {},
   "source": [
    "Уберем признак flag, он негативно влияет на метрику."
   ]
  },
  {
   "cell_type": "code",
   "execution_count": 160,
   "metadata": {},
   "outputs": [],
   "source": [
    "train_df = train_df.drop(columns = 'flag')\n",
    "test_df = test_df.drop(columns = 'flag')"
   ]
  },
  {
   "cell_type": "markdown",
   "metadata": {},
   "source": [
    "Добавим новый признак, на основе комбинации предметов, и вероятности выбора преподавателя, с такой комбинацией."
   ]
  },
  {
   "cell_type": "code",
   "execution_count": 170,
   "metadata": {},
   "outputs": [],
   "source": [
    "group = train_df[[ 'physics',\n",
    " 'chemistry',\n",
    " 'biology',\n",
    " 'english',\n",
    " 'geography',\n",
    " 'history']].values\n",
    "choose =  train_df['choose'].values\n",
    "ver_ = np.zeros(len(choose))\n",
    "unique_val,count_val = np.unique(group,return_counts = True, axis = 0)\n",
    "unique_ver = []\n",
    "for i in range(len(unique_val)):\n",
    "    arr = []\n",
    "    arr = np.where(np.all(unique_val[i] == group, axis=1))[0]\n",
    "    ver = np.round(choose[arr].sum()/count_val[i],2)\n",
    "    unique_ver.append(ver)\n",
    "    ver_[arr] = ver\n",
    "    \n"
   ]
  },
  {
   "cell_type": "code",
   "execution_count": 174,
   "metadata": {},
   "outputs": [],
   "source": [
    "train_df['class_ver'] = ver_"
   ]
  },
  {
   "cell_type": "markdown",
   "metadata": {},
   "source": [
    "Добавим эти классы в тренировочную выборкую"
   ]
  },
  {
   "cell_type": "code",
   "execution_count": 183,
   "metadata": {},
   "outputs": [],
   "source": [
    "group = test_df[[ 'physics',\n",
    " 'chemistry',\n",
    " 'biology',\n",
    " 'english',\n",
    " 'geography',\n",
    " 'history']].values\n",
    "test_class = np.zeros(len(test_df['age']))\n",
    "for i in range(len(unique_val)):\n",
    "    arr = []\n",
    "    arr = np.where(np.all(unique_val[i] == group, axis=1))[0]\n",
    "    test_class[arr] = unique_ver[i]"
   ]
  },
  {
   "cell_type": "code",
   "execution_count": 185,
   "metadata": {},
   "outputs": [],
   "source": [
    "test_df['class_ver'] = test_class"
   ]
  },
  {
   "cell_type": "markdown",
   "metadata": {},
   "source": [
    "Видно что, чем выше квалификация, тем выше средний балл. Поскольку разница между 1 и 2, а также 3 и 4 невелика, добавим новый признак с классификацией на 2 группы."
   ]
  },
  {
   "cell_type": "code",
   "execution_count": 211,
   "metadata": {},
   "outputs": [
    {
     "name": "stdout",
     "output_type": "stream",
     "text": [
      "qualification=1, средний бал равен 55.89429564506236\n",
      "qualification=2, средний бал равен 65.03363006923838\n",
      "qualification=3, средний бал равен 83.63181367690783\n",
      "qualification=4, средний бал равен 85.46551724137932\n"
     ]
    }
   ],
   "source": [
    "for i in range(1,5):    \n",
    "    q = train_df['mean_exam_points'][train_df['qualification'] == i].sum()/len(train_df['mean_exam_points'][train_df['qualification'] == i].values)\n",
    "    print(f'qualification={i}, средний бал равен {q}')"
   ]
  },
  {
   "cell_type": "code",
   "execution_count": 212,
   "metadata": {},
   "outputs": [
    {
     "name": "stderr",
     "output_type": "stream",
     "text": [
      "<ipython-input-212-4eca2c66befb>:5: SettingWithCopyWarning: \n",
      "A value is trying to be set on a copy of a slice from a DataFrame\n",
      "\n",
      "See the caveats in the documentation: https://pandas.pydata.org/pandas-docs/stable/user_guide/indexing.html#returning-a-view-versus-a-copy\n",
      "  train_df['qual_group'][train_df['qualification'] == i] = 1\n",
      "<ipython-input-212-4eca2c66befb>:8: SettingWithCopyWarning: \n",
      "A value is trying to be set on a copy of a slice from a DataFrame\n",
      "\n",
      "See the caveats in the documentation: https://pandas.pydata.org/pandas-docs/stable/user_guide/indexing.html#returning-a-view-versus-a-copy\n",
      "  train_df['qual_group'][train_df['qualification'] == i] = 2\n"
     ]
    }
   ],
   "source": [
    "train_df['qual_group'] = 0\n",
    "\n",
    "for i in range(1,5):    \n",
    "    if i < 3:\n",
    "        train_df['qual_group'][train_df['qualification'] == i] = 1\n",
    "    \n",
    "    else:\n",
    "        train_df['qual_group'][train_df['qualification'] == i] = 2\n",
    "    "
   ]
  },
  {
   "cell_type": "code",
   "execution_count": 220,
   "metadata": {},
   "outputs": [
    {
     "name": "stderr",
     "output_type": "stream",
     "text": [
      "<ipython-input-220-4396f2de7e46>:5: SettingWithCopyWarning: \n",
      "A value is trying to be set on a copy of a slice from a DataFrame\n",
      "\n",
      "See the caveats in the documentation: https://pandas.pydata.org/pandas-docs/stable/user_guide/indexing.html#returning-a-view-versus-a-copy\n",
      "  test_df['qual_group'][test_df['qualification'] == i] = 1\n",
      "<ipython-input-220-4396f2de7e46>:8: SettingWithCopyWarning: \n",
      "A value is trying to be set on a copy of a slice from a DataFrame\n",
      "\n",
      "See the caveats in the documentation: https://pandas.pydata.org/pandas-docs/stable/user_guide/indexing.html#returning-a-view-versus-a-copy\n",
      "  test_df['qual_group'][test_df['qualification'] == i] = 2\n"
     ]
    }
   ],
   "source": [
    "test_df['qual_group'] = 0\n",
    "\n",
    "for i in range(1,5):    \n",
    "    if i < 3:\n",
    "        test_df['qual_group'][test_df['qualification'] == i] = 1\n",
    "    \n",
    "    else:\n",
    "        test_df['qual_group'][test_df['qualification'] == i] = 2"
   ]
  },
  {
   "cell_type": "markdown",
   "metadata": {},
   "source": [
    "## Сохранение, внесенных изменений."
   ]
  },
  {
   "cell_type": "code",
   "execution_count": 228,
   "metadata": {},
   "outputs": [],
   "source": [
    "train_df.to_csv('C:/Users/lukfi/YandexDisk/GB/Алгоритмы анализа данных/Курсовой проект/data/train_df_prepeared.csv')\n",
    "test_df.to_csv('C:/Users/lukfi/YandexDisk/GB/Алгоритмы анализа данных/Курсовой проект/data/test_df_prepeared.csv')"
   ]
  },
  {
   "cell_type": "code",
   "execution_count": null,
   "metadata": {},
   "outputs": [],
   "source": []
  },
  {
   "cell_type": "code",
   "execution_count": null,
   "metadata": {},
   "outputs": [],
   "source": [
    "\n"
   ]
  },
  {
   "cell_type": "code",
   "execution_count": null,
   "metadata": {},
   "outputs": [],
   "source": []
  },
  {
   "cell_type": "code",
   "execution_count": null,
   "metadata": {},
   "outputs": [],
   "source": []
  },
  {
   "cell_type": "code",
   "execution_count": null,
   "metadata": {},
   "outputs": [],
   "source": []
  },
  {
   "cell_type": "code",
   "execution_count": null,
   "metadata": {},
   "outputs": [],
   "source": []
  },
  {
   "cell_type": "code",
   "execution_count": null,
   "metadata": {},
   "outputs": [],
   "source": []
  },
  {
   "cell_type": "code",
   "execution_count": null,
   "metadata": {},
   "outputs": [],
   "source": []
  }
 ],
 "metadata": {
  "kernelspec": {
   "display_name": "Python 3",
   "language": "python",
   "name": "python3"
  },
  "language_info": {
   "codemirror_mode": {
    "name": "ipython",
    "version": 3
   },
   "file_extension": ".py",
   "mimetype": "text/x-python",
   "name": "python",
   "nbconvert_exporter": "python",
   "pygments_lexer": "ipython3",
   "version": "3.8.3"
  }
 },
 "nbformat": 4,
 "nbformat_minor": 4
}
